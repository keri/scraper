{
 "cells": [
  {
   "cell_type": "code",
   "execution_count": 1,
   "metadata": {
    "collapsed": true
   },
   "outputs": [],
   "source": [
    "import pandas as pd"
   ]
  },
  {
   "cell_type": "code",
   "execution_count": 2,
   "metadata": {
    "collapsed": true
   },
   "outputs": [],
   "source": [
    "from selenium import webdriver"
   ]
  },
  {
   "cell_type": "code",
   "execution_count": 3,
   "metadata": {
    "collapsed": true
   },
   "outputs": [],
   "source": [
    "from selenium.webdriver.common.keys import Keys"
   ]
  },
  {
   "cell_type": "code",
   "execution_count": 141,
   "metadata": {},
   "outputs": [
    {
     "data": {
      "text/html": [
       "<div>\n",
       "<style scoped>\n",
       "    .dataframe tbody tr th:only-of-type {\n",
       "        vertical-align: middle;\n",
       "    }\n",
       "\n",
       "    .dataframe tbody tr th {\n",
       "        vertical-align: top;\n",
       "    }\n",
       "\n",
       "    .dataframe thead th {\n",
       "        text-align: right;\n",
       "    }\n",
       "</style>\n",
       "<table border=\"1\" class=\"dataframe\">\n",
       "  <thead>\n",
       "    <tr style=\"text-align: right;\">\n",
       "      <th></th>\n",
       "      <th>id</th>\n",
       "      <th>message</th>\n",
       "      <th>date</th>\n",
       "    </tr>\n",
       "  </thead>\n",
       "  <tbody>\n",
       "  </tbody>\n",
       "</table>\n",
       "</div>"
      ],
      "text/plain": [
       "Empty DataFrame\n",
       "Columns: [id, message, date]\n",
       "Index: []"
      ]
     },
     "execution_count": 141,
     "metadata": {},
     "output_type": "execute_result"
    }
   ],
   "source": [
    "df = pd.DataFrame(columns=['id','message','date'])\n",
    "df.head()"
   ]
  },
  {
   "cell_type": "code",
   "execution_count": 4,
   "metadata": {
    "collapsed": true
   },
   "outputs": [],
   "source": [
    "chromedriver = '/usr/local/bin/chromedriver'"
   ]
  },
  {
   "cell_type": "code",
   "execution_count": 5,
   "metadata": {},
   "outputs": [],
   "source": [
    "driver = webdriver.Chrome(chromedriver)\n",
    "\n",
    "select = driver.find_elements_by_css_selector\n",
    "select_one = driver.find_element_by_css_selector\n"
   ]
  },
  {
   "cell_type": "code",
   "execution_count": 134,
   "metadata": {
    "collapsed": true
   },
   "outputs": [],
   "source": [
    "driver.get('https://www.linkedin.com/')"
   ]
  },
  {
   "cell_type": "code",
   "execution_count": 152,
   "metadata": {},
   "outputs": [
    {
     "ename": "SyntaxError",
     "evalue": "invalid syntax (<ipython-input-152-6be980c39c47>, line 11)",
     "output_type": "error",
     "traceback": [
      "\u001b[0;36m  File \u001b[0;32m\"<ipython-input-152-6be980c39c47>\"\u001b[0;36m, line \u001b[0;32m11\u001b[0m\n\u001b[0;31m    try:\u001b[0m\n\u001b[0m      ^\u001b[0m\n\u001b[0;31mSyntaxError\u001b[0m\u001b[0;31m:\u001b[0m invalid syntax\n"
     ]
    }
   ],
   "source": [
    "#if on the main linked in with the sign in on top right\n",
    "try:\n",
    "    sign_in = select_one('a.nav__button-secondary')\n",
    "    sign_in.click()\n",
    "    input_name = select_one('input#username')\n",
    "    input_name.send_keys('keri@multerer.com')\n",
    "    input_pwd = select_one('input#password')\n",
    "    input_pwd.send_keys('jfdkfjadluivjdkk5')\n",
    "    login_action = select_one('div.login__form_action_container ')\n",
    "    login_action.click()\n",
    "except:\n",
    "    email_input = select_one('input.login-email')\n",
    "    email_input.click()\n",
    "    email_input.send_keys('keri@multerer.com')\n",
    "    password_input = select_one('input.login-password')\n",
    "    password_input.click()\n",
    "    password_input.send_keys('jfdkfjadluivjdkk5')\n",
    "    submit = select_one('#login-submit')\n",
    "    submit.click()\n",
    "except:\n",
    "    driver.get(sign_in.get_attribute('href'))\n",
    "    input_name = select_one('input#username')\n",
    "    input_name.click()\n",
    "    input_name.send_keys('keri@multerer.com')\n",
    "    input_password = select_one('input#password')\n",
    "    input_password.click()\n",
    "    input_password.send_keys('jfdkfjadluivjdkk5')\n",
    "    login_btn = select_one('button.btn__primary--large.from__button--floating')\n",
    "    login_btn.click()\n",
    "except:\n",
    "    print('nope, didnt work')\n"
   ]
  },
  {
   "cell_type": "markdown",
   "metadata": {},
   "source": [
    "# Getting list of conversations on the left and then clicking through them to capture the full message thread"
   ]
  },
  {
   "cell_type": "code",
   "execution_count": 145,
   "metadata": {
    "collapsed": true
   },
   "outputs": [],
   "source": [
    "#accessing the messages once logged in\n",
    "message_btn = select_one('span#messaging-tab-icon')\n",
    "message_btn.click()"
   ]
  },
  {
   "cell_type": "code",
   "execution_count": 146,
   "metadata": {
    "collapsed": true
   },
   "outputs": [],
   "source": [
    "convo_list = select('li.msg-conversation-listitem')"
   ]
  },
  {
   "cell_type": "code",
   "execution_count": 147,
   "metadata": {},
   "outputs": [],
   "source": [
    "for convo in convo_list:\n",
    "    convo.click()\n",
    "    try:\n",
    "        message = select_one('div.msg-s-message-list-container').text\n",
    "        message_list = message.split('\\n')\n",
    "        name = message_list[4]\n",
    "        date = message_list[1]\n",
    "        df = df.append({'id' : name , 'message' : message, 'date': date} , ignore_index=True)\n",
    "    except:\n",
    "        df = df.append({'id': '' , 'message' : 'advertisement', 'date': ''}, ignore_index=True)"
   ]
  },
  {
   "cell_type": "code",
   "execution_count": 149,
   "metadata": {},
   "outputs": [
    {
     "data": {
      "text/html": [
       "<div>\n",
       "<style scoped>\n",
       "    .dataframe tbody tr th:only-of-type {\n",
       "        vertical-align: middle;\n",
       "    }\n",
       "\n",
       "    .dataframe tbody tr th {\n",
       "        vertical-align: top;\n",
       "    }\n",
       "\n",
       "    .dataframe thead th {\n",
       "        text-align: right;\n",
       "    }\n",
       "</style>\n",
       "<table border=\"1\" class=\"dataframe\">\n",
       "  <thead>\n",
       "    <tr style=\"text-align: right;\">\n",
       "      <th></th>\n",
       "      <th>id</th>\n",
       "      <th>message</th>\n",
       "      <th>date</th>\n",
       "    </tr>\n",
       "  </thead>\n",
       "  <tbody>\n",
       "    <tr>\n",
       "      <th>0</th>\n",
       "      <td>Technologist</td>\n",
       "      <td>Faisal Zahid\\nStatus is reachable\\nFaisal Zahi...</td>\n",
       "      <td>Status is reachable</td>\n",
       "    </tr>\n",
       "    <tr>\n",
       "      <th>1</th>\n",
       "      <td>Technologist</td>\n",
       "      <td>Faisal Zahid\\nStatus is reachable\\nFaisal Zahi...</td>\n",
       "      <td>Status is reachable</td>\n",
       "    </tr>\n",
       "    <tr>\n",
       "      <th>2</th>\n",
       "      <td></td>\n",
       "      <td>advertisement</td>\n",
       "      <td></td>\n",
       "    </tr>\n",
       "    <tr>\n",
       "      <th>3</th>\n",
       "      <td>Andrew Yin</td>\n",
       "      <td>Recruiter\\nFeb 22\\nAndrew Yin sent the followi...</td>\n",
       "      <td>Feb 22</td>\n",
       "    </tr>\n",
       "    <tr>\n",
       "      <th>4</th>\n",
       "      <td>FEB 24</td>\n",
       "      <td>Yiran Sherry\\nYiran Sherry\\n· 1st\\nEnterprise ...</td>\n",
       "      <td>Yiran Sherry</td>\n",
       "    </tr>\n",
       "  </tbody>\n",
       "</table>\n",
       "</div>"
      ],
      "text/plain": [
       "             id                                            message  \\\n",
       "0  Technologist  Faisal Zahid\\nStatus is reachable\\nFaisal Zahi...   \n",
       "1  Technologist  Faisal Zahid\\nStatus is reachable\\nFaisal Zahi...   \n",
       "2                                                    advertisement   \n",
       "3    Andrew Yin  Recruiter\\nFeb 22\\nAndrew Yin sent the followi...   \n",
       "4        FEB 24  Yiran Sherry\\nYiran Sherry\\n· 1st\\nEnterprise ...   \n",
       "\n",
       "                  date  \n",
       "0  Status is reachable  \n",
       "1  Status is reachable  \n",
       "2                       \n",
       "3               Feb 22  \n",
       "4         Yiran Sherry  "
      ]
     },
     "execution_count": 149,
     "metadata": {},
     "output_type": "execute_result"
    }
   ],
   "source": [
    "df.head()"
   ]
  },
  {
   "cell_type": "markdown",
   "metadata": {},
   "source": [
    "# Getting the stats for visits"
   ]
  },
  {
   "cell_type": "code",
   "execution_count": 193,
   "metadata": {
    "collapsed": true
   },
   "outputs": [],
   "source": [
    "#go to profile page\n",
    "profile = select_one('li#profile-nav-item')\n",
    "profile.click()\n",
    "dropdown = select_one('ul#nav-settings__dropdown-options')\n",
    "url = dropdown.find_element_by_css_selector('a')\n",
    "url.get_attribute('href')\n",
    "driver.get(url.get_attribute('href'))"
   ]
  },
  {
   "cell_type": "code",
   "execution_count": 194,
   "metadata": {
    "collapsed": true
   },
   "outputs": [],
   "source": [
    "#get the profile view information\n",
    "views = select_one('a.profile-views')\n",
    "views.get_attribute('href')\n",
    "driver.get(views.get_attribute('href'))"
   ]
  },
  {
   "cell_type": "code",
   "execution_count": 195,
   "metadata": {},
   "outputs": [
    {
     "data": {
      "text/plain": [
       "'17'"
      ]
     },
     "execution_count": 195,
     "metadata": {},
     "output_type": "execute_result"
    }
   ],
   "source": [
    "#number of views in the last 90 days\n",
    "views = select_one('span.me-wvmp-views__90-days-views')\n",
    "views.text"
   ]
  },
  {
   "cell_type": "code",
   "execution_count": 196,
   "metadata": {
    "collapsed": true
   },
   "outputs": [],
   "source": [
    "#access all views page\n",
    "all_views = select_one('li.ember-view a')\n",
    "driver.get(all_views.get_attribute('href'))"
   ]
  },
  {
   "cell_type": "code",
   "execution_count": null,
   "metadata": {
    "collapsed": true
   },
   "outputs": [],
   "source": []
  },
  {
   "cell_type": "code",
   "execution_count": null,
   "metadata": {
    "collapsed": true
   },
   "outputs": [],
   "source": []
  },
  {
   "cell_type": "code",
   "execution_count": 56,
   "metadata": {
    "collapsed": true
   },
   "outputs": [],
   "source": [
    "#this was on the page when linked in asked if my info was correct\n",
    "info_correct = select_one('button.primary-action')\n",
    "info_correct.click()"
   ]
  },
  {
   "cell_type": "code",
   "execution_count": null,
   "metadata": {},
   "outputs": [],
   "source": [
    "message = select_one('p.msg-spinmail-thread__message-body t-14 t-black t-normal msg-spinmail-thread__message-body--with-spacing')"
   ]
  },
  {
   "cell_type": "code",
   "execution_count": null,
   "metadata": {
    "collapsed": true
   },
   "outputs": [],
   "source": []
  },
  {
   "cell_type": "code",
   "execution_count": null,
   "metadata": {
    "collapsed": true
   },
   "outputs": [],
   "source": []
  },
  {
   "cell_type": "code",
   "execution_count": null,
   "metadata": {
    "collapsed": true
   },
   "outputs": [],
   "source": []
  },
  {
   "cell_type": "code",
   "execution_count": null,
   "metadata": {
    "collapsed": true
   },
   "outputs": [],
   "source": []
  },
  {
   "cell_type": "code",
   "execution_count": null,
   "metadata": {
    "collapsed": true
   },
   "outputs": [],
   "source": []
  },
  {
   "cell_type": "code",
   "execution_count": null,
   "metadata": {
    "collapsed": true
   },
   "outputs": [],
   "source": []
  },
  {
   "cell_type": "code",
   "execution_count": null,
   "metadata": {
    "collapsed": true
   },
   "outputs": [],
   "source": []
  },
  {
   "cell_type": "code",
   "execution_count": null,
   "metadata": {
    "collapsed": true
   },
   "outputs": [],
   "source": []
  },
  {
   "cell_type": "code",
   "execution_count": null,
   "metadata": {
    "collapsed": true
   },
   "outputs": [],
   "source": []
  },
  {
   "cell_type": "code",
   "execution_count": null,
   "metadata": {
    "collapsed": true
   },
   "outputs": [],
   "source": []
  }
 ],
 "metadata": {
  "kernelspec": {
   "display_name": "Python 3",
   "language": "python",
   "name": "python3"
  },
  "language_info": {
   "codemirror_mode": {
    "name": "ipython",
    "version": 3
   },
   "file_extension": ".py",
   "mimetype": "text/x-python",
   "name": "python",
   "nbconvert_exporter": "python",
   "pygments_lexer": "ipython3",
   "version": "3.6.7"
  }
 },
 "nbformat": 4,
 "nbformat_minor": 2
}

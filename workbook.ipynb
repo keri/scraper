{
 "cells": [
  {
   "cell_type": "code",
   "execution_count": 64,
   "metadata": {
    "collapsed": true
   },
   "outputs": [],
   "source": [
    "import pandas as pd\n",
    "import time\n",
    "from selenium import webdriver\n",
    "from selenium.webdriver.common.keys import Keys\n",
    "from selenium.common.exceptions import NoSuchElementException, ElementNotVisibleException, InvalidArgumentException"
   ]
  },
  {
   "cell_type": "code",
   "execution_count": null,
   "metadata": {
    "collapsed": true
   },
   "outputs": [],
   "source": [
    "# chromedriver = '/usr/local/bin/chromedriver'\n",
    "# driver = webdriver.Chrome(chromedriver)\n",
    "# select = driver.find_elements_by_css_selector\n",
    "# select_one = driver.find_element_by_css_selector\n",
    "#start linkedIn with a fresh page, no one is logged in\n",
    "#driver.get('https://www.linkedin.com/')"
   ]
  },
  {
   "cell_type": "code",
   "execution_count": 67,
   "metadata": {},
   "outputs": [],
   "source": [
    "def sign_in(login, password, driver):#if on the main linked in with the sign in on top right\n",
    "    select = driver.find_elements_by_css_selector\n",
    "    select_one = driver.find_element_by_css_selector\n",
    "    driver.get('https://www.linkedin.com/')\n",
    "    try:\n",
    "        sign_in = select_one('input#login-email')\n",
    "        sign_in.click()\n",
    "        sign_in.send_keys(login)\n",
    "        password_in = select_one('input#login-password')\n",
    "        password_in.click()\n",
    "        password_in.send_keys(password)\n",
    "        login = select_one('input#login-submit')\n",
    "        login.click()\n",
    "    except NoSuchElementException:       \n",
    "        try:\n",
    "            sign_in = select_one('a.nav__button-secondary')\n",
    "            sign_in.click()\n",
    "            try:\n",
    "                input_name = select_one('input#username')\n",
    "                input_name.send_keys(login)\n",
    "                input_pwd = select_one('input#password')\n",
    "                input_pwd.send_keys(password)\n",
    "                login_action = select_one('div.login__form_action_container ')\n",
    "                login_action.click()\n",
    "            except NoSuchElementException:\n",
    "                    driver.get(sign_in.get_attribute('href'))\n",
    "                    input_name = select_one('input#username')\n",
    "                    input_name.click()\n",
    "                    input_name.send_keys(login)\n",
    "                    input_password = select_one('input#password')\n",
    "                    input_password.click()\n",
    "                    input_password.send_keys(password)\n",
    "                    login_btn = select_one('button.btn__primary--large.from__button--floating')\n",
    "                    login_btn.click()\n",
    "        except NoSuchElementException:\n",
    "            try:\n",
    "                email_input = select_one('input.login-email')\n",
    "                email_input.click()\n",
    "                email_input.send_keys(input)\n",
    "                password_input = select_one('input.login-password')\n",
    "                password_input.click()\n",
    "                password_input.send_keys(password)\n",
    "                submit = select_one('#login-submit')\n",
    "                submit.click()\n",
    "\n",
    "            except:\n",
    "                print('nope, didnt work')\n",
    "    return(driver)\n"
   ]
  },
  {
   "cell_type": "code",
   "execution_count": 27,
   "metadata": {
    "collapsed": true
   },
   "outputs": [],
   "source": [
    "login = 'keri@multerer.com'\n",
    "password = 'jfdkfjadluivjdkk5'"
   ]
  },
  {
   "cell_type": "markdown",
   "metadata": {},
   "source": [
    "# Getting list of conversations on the left and then clicking through them to capture the full message thread"
   ]
  },
  {
   "cell_type": "code",
   "execution_count": 93,
   "metadata": {},
   "outputs": [],
   "source": [
    "def get_messages(driver):\n",
    "    select = driver.find_elements_by_css_selector\n",
    "    select_one = driver.find_element_by_css_selector\n",
    "    df = pd.DataFrame(columns=['id','message','date'])\n",
    "    #accessing the messages once logged in\n",
    "    message_btn = select_one('span#messaging-tab-icon')\n",
    "    message_btn.click()\n",
    "    try:\n",
    "        unordered_list = select_one('ul.msg-conversations-container__conversations-list')\n",
    "        convo_list = unordered_list.find_elements_by_css_selector('li')\n",
    "        print(len(convo_list))\n",
    "\n",
    "#         print(unordered_list)\n",
    "#         url_elements = unordered_list.find_elements_by_css_selector('a')\n",
    "#         print(len(url_elements))\n",
    "#         convo_list = []\n",
    "#         for element in url_elements:\n",
    "#             convo_list.append(str(element.get_attribute('href')))\n",
    "#         print(len(convo_list))\n",
    "#         print(convo_list)\n",
    "    except NoSuchElementException:\n",
    "        print('in 1st no such element')\n",
    "        convo_list = select('li.msg-conversation-listitem')\n",
    "        print(len(convo_list))\n",
    "    for convo in convo_list:\n",
    "        try:\n",
    "            convo.click()\n",
    "            #driver.get(convo)\n",
    "            try:\n",
    "                message = select_one('div.msg-s-message-list').text\n",
    "                message_list = message.split('\\n')\n",
    "                time.sleep(1)\n",
    "                if message_list[0] == 'Recruiter':\n",
    "                    df = df.append({'id': message_list[0], 'message': message, 'date': message_list[1]}, ignore_index=True)\n",
    "                elif '2' in message_list[0]:\n",
    "                    if len(message_list) >= 4:\n",
    "                        df = df.append({'id': message_list[3], 'message': message, 'date': message_list[0]}, ignore_index=True)\n",
    "                    else:\n",
    "                        print(message_list)\n",
    "                        df = df.append({'id': message_list[1][:-21], 'message': message, 'date': message_list[0]}, ignore_index=True)\n",
    "                else:\n",
    "                    df = df.append({'id': message_list[0], 'message': message, 'date': message_list[5]}, ignore_index=True)\n",
    "            except NoSuchElementException:\n",
    "                df = df.append({'id': '' , 'message' : 'advertisement', 'date': ''}, ignore_index=True)\n",
    "        except ElementNotVisibleException:\n",
    "            return(df)\n",
    "    return(df)"
   ]
  },
  {
   "cell_type": "markdown",
   "metadata": {},
   "source": [
    "# Getting the stats for visits"
   ]
  },
  {
   "cell_type": "code",
   "execution_count": 35,
   "metadata": {
    "collapsed": true
   },
   "outputs": [],
   "source": [
    "def get_ninetyday_views(driver):\n",
    "    select = driver.find_elements_by_css_selector\n",
    "    select_one = driver.find_element_by_css_selector\n",
    "    #go to profile page\n",
    "    profile = select_one('li#profile-nav-item')\n",
    "    profile.click()\n",
    "    dropdown = select_one('ul#nav-settings__dropdown-options')\n",
    "    url = dropdown.find_element_by_css_selector('a')\n",
    "    url.get_attribute('href')\n",
    "    driver.get(url.get_attribute('href'))\n",
    "\n",
    "    #get the profile view information\n",
    "    try:\n",
    "        views = select_one('a.profile-views')\n",
    "        views.get_attribute('href')\n",
    "        driver.get(views.get_attribute('href'))\n",
    "        views = select_one('span.me-wvmp-views__90-days-views')\n",
    "        ninety_day_views = views.text\n",
    "\n",
    "    except NoSuchElementException:\n",
    "        try:\n",
    "            ninety_day_views = select_one('span.pv-dashboard-section__metric-count').text\n",
    "        except NoSuchElementException:\n",
    "            ninety_day_views = 'unable to get'\n",
    "    #number of views in the last 90 days\n",
    "    return(ninety_day_views)"
   ]
  },
  {
   "cell_type": "code",
   "execution_count": 30,
   "metadata": {
    "collapsed": true
   },
   "outputs": [],
   "source": [
    "def get_ssindex(driver):\n",
    "    select = driver.find_elements_by_css_selector\n",
    "    select_one = driver.find_element_by_css_selector\n",
    "    social_index_df = pd.DataFrame(columns=['ninety_day_views','social_score','weekly_totals'])\n",
    "    driver.get('https://www.linkedin.com/')\n",
    "    views = get_ninetyday_views(driver)\n",
    "    #accessing your social selling index: Must be logged in then go to https://www.linkedin.com/sales/ssi\n",
    "    driver.get('https://www.linkedin.com/sales/ssi')\n",
    "    body = select_one('article#main')\n",
    "    wrappers = body.find_element_by_css_selector('div#current-barchart-wrapper')\n",
    "    score_list = wrappers.text.split('\\n')\n",
    "    labels = score_list[4:8]\n",
    "    scores = score_list[-4:]\n",
    "    #put this into the dataframe\n",
    "    scores_tuple_list = list(zip(labels,scores))\n",
    "    weekly_totals = select_one('div#overtime-linechart-accessible')\n",
    "    time.sleep(5)\n",
    "    table = weekly_totals.find_element_by_css_selector('table')\n",
    "    body = table.find_element_by_css_selector('tbody')\n",
    "    data = body.find_elements_by_css_selector('td')\n",
    "    data_table_list = []\n",
    "    for d in data:\n",
    "        data_table_list.append(d.get_attribute('innerHTML'))\n",
    "    #put this into the dataframe\n",
    "    social_index = social_index_df.append({'ninety_day_views': views,\n",
    "                    'social_score': scores_tuple_list,\n",
    "                    'weekly_totals': data_table_list}, \n",
    "                    ignore_index=True)\n",
    "    return(social_index)"
   ]
  },
  {
   "cell_type": "code",
   "execution_count": 43,
   "metadata": {
    "collapsed": true
   },
   "outputs": [],
   "source": [
    "def run_scrape(login, password):\n",
    "    chromedriver = '/usr/local/bin/chromedriver'\n",
    "    driver = webdriver.Chrome(chromedriver)\n",
    "    sign_in(login, password,driver)\n",
    "    #messages = get_messages(driver)\n",
    "    messages = get_messages(driver)\n",
    "    #for saving to csv\n",
    "    filename = f'{login}'+'.messages.csv'\n",
    "    messages.to_csv(filename,index=False)\n",
    "    ssindex = get_ssindex(driver)\n",
    "    socialfilename = f'{login}'+'social_score.csv'\n",
    "    ssindex.to_csv(socialfilename,index=False)\n",
    "    \n",
    "    "
   ]
  },
  {
   "cell_type": "code",
   "execution_count": 69,
   "metadata": {},
   "outputs": [],
   "source": [
    "chromedriver = '/usr/local/bin/chromedriver'\n",
    "driver = webdriver.Chrome(chromedriver)\n",
    "driver = sign_in(login, password,driver)"
   ]
  },
  {
   "cell_type": "code",
   "execution_count": 71,
   "metadata": {
    "collapsed": true
   },
   "outputs": [],
   "source": [
    "select = driver.find_elements_by_css_selector\n",
    "select_one = driver.find_element_by_css_selector\n",
    "df = pd.DataFrame(columns=['id','message','date'])\n",
    "    #accessing the messages once logged in\n",
    "message_btn = select_one('span#messaging-tab-icon')\n",
    "message_btn.click()"
   ]
  },
  {
   "cell_type": "code",
   "execution_count": 72,
   "metadata": {},
   "outputs": [
    {
     "name": "stdout",
     "output_type": "stream",
     "text": [
      "https://www.linkedin.com/messaging/thread/6495506015738568704/\n",
      "https://www.linkedin.com/messaging/thread/6514721863699173376/\n",
      "https://www.linkedin.com/messaging/thread/6504569339771969536/\n",
      "https://www.linkedin.com/messaging/thread/6505188061725495296/\n",
      "https://www.linkedin.com/messaging/thread/6495506053269192704/\n",
      "https://www.linkedin.com/messaging/thread/6478373310269919233/\n",
      "https://www.linkedin.com/messaging/thread/6458159242158444544/\n",
      "https://www.linkedin.com/messaging/thread/6451525973451038720/\n",
      "https://www.linkedin.com/messaging/thread/6444092850438307840/\n",
      "https://www.linkedin.com/messaging/thread/6409963611464310784/\n",
      "https://www.linkedin.com/messaging/thread/6427650795105320960/\n",
      "https://www.linkedin.com/messaging/thread/6423406668243103744/\n",
      "https://www.linkedin.com/messaging/thread/6422632323891687424/\n",
      "https://www.linkedin.com/messaging/thread/6375431192233287681/\n"
     ]
    }
   ],
   "source": [
    "unordered_list = select_one('ul.msg-conversations-container__conversations-list')\n",
    "convo_list = unordered_list.find_elements_by_css_selector('a')\n",
    "for c in convo_list:\n",
    "    print(c.get_attribute('href'))"
   ]
  },
  {
   "cell_type": "code",
   "execution_count": 89,
   "metadata": {},
   "outputs": [
    {
     "name": "stdout",
     "output_type": "stream",
     "text": [
      "0\n"
     ]
    }
   ],
   "source": [
    "run_scrape(login, password)"
   ]
  },
  {
   "cell_type": "code",
   "execution_count": 90,
   "metadata": {},
   "outputs": [
    {
     "name": "stdout",
     "output_type": "stream",
     "text": [
      "geckodriver.log                   keri@multerer.comsocial_score.csv\r\n",
      "keri@multerer.com.messages.csv    workbook.ipynb\r\n"
     ]
    }
   ],
   "source": [
    "!ls"
   ]
  },
  {
   "cell_type": "code",
   "execution_count": 91,
   "metadata": {
    "collapsed": true
   },
   "outputs": [],
   "source": [
    "df = pd.read_csv('keri@multerer.com.messages.csv')"
   ]
  },
  {
   "cell_type": "code",
   "execution_count": 92,
   "metadata": {},
   "outputs": [
    {
     "data": {
      "text/html": [
       "<div>\n",
       "<style scoped>\n",
       "    .dataframe tbody tr th:only-of-type {\n",
       "        vertical-align: middle;\n",
       "    }\n",
       "\n",
       "    .dataframe tbody tr th {\n",
       "        vertical-align: top;\n",
       "    }\n",
       "\n",
       "    .dataframe thead th {\n",
       "        text-align: right;\n",
       "    }\n",
       "</style>\n",
       "<table border=\"1\" class=\"dataframe\">\n",
       "  <thead>\n",
       "    <tr style=\"text-align: right;\">\n",
       "      <th></th>\n",
       "      <th>id</th>\n",
       "      <th>message</th>\n",
       "      <th>date</th>\n",
       "    </tr>\n",
       "  </thead>\n",
       "  <tbody>\n",
       "  </tbody>\n",
       "</table>\n",
       "</div>"
      ],
      "text/plain": [
       "Empty DataFrame\n",
       "Columns: [id, message, date]\n",
       "Index: []"
      ]
     },
     "execution_count": 92,
     "metadata": {},
     "output_type": "execute_result"
    }
   ],
   "source": [
    "df"
   ]
  },
  {
   "cell_type": "code",
   "execution_count": null,
   "metadata": {
    "collapsed": true
   },
   "outputs": [],
   "source": [
    "!rm 'keri@multerer.com.messages.csv'\n",
    "!rm 'keri@multerer.comsocial_score.csv'"
   ]
  },
  {
   "cell_type": "code",
   "execution_count": null,
   "metadata": {},
   "outputs": [],
   "source": [
    "!ls"
   ]
  },
  {
   "cell_type": "code",
   "execution_count": null,
   "metadata": {
    "collapsed": true
   },
   "outputs": [],
   "source": []
  }
 ],
 "metadata": {
  "kernelspec": {
   "display_name": "Python 3",
   "language": "python",
   "name": "python3"
  },
  "language_info": {
   "codemirror_mode": {
    "name": "ipython",
    "version": 3
   },
   "file_extension": ".py",
   "mimetype": "text/x-python",
   "name": "python",
   "nbconvert_exporter": "python",
   "pygments_lexer": "ipython3",
   "version": "3.6.7"
  }
 },
 "nbformat": 4,
 "nbformat_minor": 2
}

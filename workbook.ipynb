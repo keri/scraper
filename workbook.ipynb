{
 "cells": [
  {
   "cell_type": "code",
   "execution_count": 1,
   "metadata": {
    "collapsed": true
   },
   "outputs": [],
   "source": [
    "import pandas as pd\n",
    "import time\n",
    "from selenium import webdriver\n",
    "from selenium.webdriver.common.keys import Keys\n",
    "from selenium.common.exceptions import NoSuchElementException, ElementNotVisibleException, InvalidArgumentException"
   ]
  },
  {
   "cell_type": "code",
   "execution_count": 128,
   "metadata": {},
   "outputs": [],
   "source": [
    "chromedriver = '/usr/local/bin/chromedriver'\n",
    "driver = webdriver.Chrome(chromedriver)\n",
    "select = driver.find_elements_by_css_selector\n",
    "select_one = driver.find_element_by_css_selector\n",
    "#start linkedIn with a fresh page, no one is logged in\n",
    "driver.get('https://www.linkedin.com/')"
   ]
  },
  {
   "cell_type": "code",
   "execution_count": 2,
   "metadata": {
    "collapsed": true
   },
   "outputs": [],
   "source": [
    "def sign_in(login, password, driver):#if on the main linked in with the sign in on top right\n",
    "    select = driver.find_elements_by_css_selector\n",
    "    select_one = driver.find_element_by_css_selector\n",
    "    driver.get('https://www.linkedin.com/')\n",
    "    try:\n",
    "        sign_in = select_one('input#login-email')\n",
    "        sign_in.click()\n",
    "        sign_in.send_keys(login)\n",
    "        password_in = select_one('input#login-password')\n",
    "        password_in.click()\n",
    "        password_in.send_keys(password)\n",
    "        login = select_one('input#login-submit')\n",
    "        login.click()\n",
    "    except NoSuchElementException:       \n",
    "        try:\n",
    "            sign_in = select_one('a.nav__button-secondary')\n",
    "            sign_in.click()\n",
    "            try:\n",
    "                input_name = select_one('input#username')\n",
    "                input_name.send_keys(login)\n",
    "                input_pwd = select_one('input#password')\n",
    "                input_pwd.send_keys(password)\n",
    "                login_action = select_one('div.login__form_action_container ')\n",
    "                login_action.click()\n",
    "            except NoSuchElementException:\n",
    "                    driver.get(sign_in.get_attribute('href'))\n",
    "                    input_name = select_one('input#username')\n",
    "                    input_name.click()\n",
    "                    input_name.send_keys(login)\n",
    "                    input_password = select_one('input#password')\n",
    "                    input_password.click()\n",
    "                    input_password.send_keys(password)\n",
    "                    login_btn = select_one('button.btn__primary--large.from__button--floating')\n",
    "                    login_btn.click()\n",
    "        except NoSuchElementException:\n",
    "            try:\n",
    "                email_input = select_one('input.login-email')\n",
    "                email_input.click()\n",
    "                email_input.send_keys(input)\n",
    "                password_input = select_one('input.login-password')\n",
    "                password_input.click()\n",
    "                password_input.send_keys(password)\n",
    "                submit = select_one('#login-submit')\n",
    "                submit.click()\n",
    "\n",
    "            except:\n",
    "                print('nope, didnt work')\n",
    "    return(driver)\n"
   ]
  },
  {
   "cell_type": "code",
   "execution_count": 96,
   "metadata": {
    "collapsed": true
   },
   "outputs": [],
   "source": [
    "login = 'keri@multerer.com'\n",
    "password = 'jfdkfjadluivjdkk5'"
   ]
  },
  {
   "cell_type": "code",
   "execution_count": 156,
   "metadata": {},
   "outputs": [
    {
     "name": "stdout",
     "output_type": "stream",
     "text": [
      "nope, didnt work\n"
     ]
    },
    {
     "data": {
      "text/plain": [
       "<selenium.webdriver.chrome.webdriver.WebDriver (session=\"6afbc6b88be958924a33714b487d8eaa\")>"
      ]
     },
     "execution_count": 156,
     "metadata": {},
     "output_type": "execute_result"
    }
   ],
   "source": [
    "sign_in(login,password,driver)"
   ]
  },
  {
   "cell_type": "markdown",
   "metadata": {},
   "source": [
    "# Getting list of conversations on the left and then clicking through them to capture the full message thread"
   ]
  },
  {
   "cell_type": "code",
   "execution_count": 90,
   "metadata": {
    "collapsed": true
   },
   "outputs": [],
   "source": [
    "def get_message_urls(driver, df):\n",
    "    select = driver.find_elements_by_css_selector\n",
    "    select_one = driver.find_element_by_css_selector\n",
    "\n",
    "    message_thread_urls = []\n",
    "\n",
    "    unordered_list = select_one('ul.msg-conversations-container__conversations-list')\n",
    "    convo_list = unordered_list.find_elements_by_css_selector('a')\n",
    "    for c in convo_list:\n",
    "        message_thread_urls.append(c.get_attribute('href'))\n",
    "    #adding the first # of messages to match the index of the df as there were some inconsistencies in the number of message urls and threads scraped.\n",
    "    df['message_url'] = message_thread_urls[:len(df)]\n",
    "    return(df)\n"
   ]
  },
  {
   "cell_type": "code",
   "execution_count": 198,
   "metadata": {
    "collapsed": true
   },
   "outputs": [],
   "source": [
    "def get_full_messages(driver,df):\n",
    "    select = driver.find_elements_by_css_selector\n",
    "    select_one = driver.find_element_by_css_selector\n",
    "\n",
    "    convo_list = select('li.msg-conversation-listitem')\n",
    "    print(len(convo_list))\n",
    "    for convo in convo_list:\n",
    "        try:\n",
    "            convo.click()\n",
    "            try:\n",
    "                message = select_one('div.msg-s-message-list').text\n",
    "                message_list = message.split('\\n')\n",
    "                time.sleep(1)\n",
    "                try:\n",
    "                    message_container = select_one('div.global-title-container')\n",
    "                    profile_url = message_container.find_element_by_css_selector('a').get_attribute('href')\n",
    "                except NoSuchElementException:\n",
    "                    profile_url = 'unable to get'\n",
    "                if message_list[0] == 'Recruiter':\n",
    "                    df = df.append({'id': message_list[0], 'message': message_list, 'date': message_list[1], 'profile_url':profile_url}, ignore_index=True)\n",
    "                elif '2' in message_list[0]:\n",
    "                    if len(message_list) >= 4:\n",
    "                        df = df.append({'id': message_list[3], 'message': message_list, 'date': message_list[0], 'profile_url':profile_url}, ignore_index=True)\n",
    "                    else:\n",
    "                        print(message_list)\n",
    "                        df = df.append({'id': message_list[1][:-21], 'message': message_list, 'date': message_list[0], 'profile_url':profile_url}, ignore_index=True)\n",
    "                else:\n",
    "                    df = df.append({'id': message_list[0], 'message': message_list, 'date': message_list[5], 'profile_url':profile_url}, ignore_index=True)\n",
    "            except NoSuchElementException:\n",
    "                df = df.append({'id': '' , 'message' : 'advertisement', 'date': '', 'profile_url':'none'}, ignore_index=True)\n",
    "        except ElementNotVisibleException:\n",
    "            return(df)\n",
    "    return(df)\n",
    "    "
   ]
  },
  {
   "cell_type": "code",
   "execution_count": 199,
   "metadata": {
    "collapsed": true
   },
   "outputs": [],
   "source": [
    "def get_messages(driver):\n",
    "    select = driver.find_elements_by_css_selector\n",
    "    select_one = driver.find_element_by_css_selector\n",
    "    df = pd.DataFrame(columns=['id','message','date','profile_url'])\n",
    "    #accessing the messages once logged in\n",
    "    message_btn = select_one('span#messaging-tab-icon')\n",
    "    message_btn.click()\n",
    "    #get full message text, name and date of person\n",
    "    messages_df = get_full_messages(driver,df)\n",
    "    #getting url to messages\n",
    "    add_message_urls_df = get_message_urls(driver,messages_df)\n",
    "    return(add_message_urls_df)"
   ]
  },
  {
   "cell_type": "markdown",
   "metadata": {},
   "source": [
    "# Getting the stats for visits"
   ]
  },
  {
   "cell_type": "code",
   "execution_count": 200,
   "metadata": {
    "collapsed": true
   },
   "outputs": [],
   "source": [
    "def get_viewer_info(driver):\n",
    "    driver.get('https://www.linkedin.com/')\n",
    "    viewers = {}\n",
    "    select = driver.find_elements_by_css_selector\n",
    "    select_one = driver.find_element_by_css_selector\n",
    "    #go to profile page\n",
    "    profile = select_one('li#profile-nav-item')\n",
    "    profile.click()\n",
    "    time.sleep(1)\n",
    "    viewer_page = select_one('span.ember-view')\n",
    "    viewer_page.click()\n",
    "    time.sleep(2)\n",
    "    \n",
    "    #get the profile view information\n",
    "    viewer_list = select('div.me-wvmp-viewer-card.display-flex.ember-view')\n",
    "    for viewer in viewer_list:\n",
    "        try:\n",
    "            viewer_url = viewer.find_element_by_css_selector('a').get_attribute('href')\n",
    "            viewer_name = viewer.find_element_by_css_selector('span.me-wvmp-viewer-card__name-text').text\n",
    "            viewers[viewer_name] = viewer_url\n",
    "        except NoSuchElementException:\n",
    "            pass\n",
    "    viewer_df = pd.DataFrame.from_dict(viewers, orient='index')\n",
    "    viewer_df.reset_index(inplace=True)\n",
    "    viewer_df.columns=['name','profile_url']\n",
    "    return(viewer_df)"
   ]
  },
  {
   "cell_type": "code",
   "execution_count": 10,
   "metadata": {
    "collapsed": true
   },
   "outputs": [],
   "source": [
    "# def get_ssindex(driver):\n",
    "#     select = driver.find_elements_by_css_selector\n",
    "#     select_one = driver.find_element_by_css_selector\n",
    "#     social_index_df = pd.DataFrame(columns=['ninety_day_views','social_score','weekly_totals'])\n",
    "#     driver.get('https://www.linkedin.com/')\n",
    "#     views = get_ninetyday_views(driver)\n",
    "#     #accessing your social selling index: Must be logged in then go to https://www.linkedin.com/sales/ssi\n",
    "#     driver.get('https://www.linkedin.com/sales/ssi')\n",
    "#     body = select_one('article#main')\n",
    "#     wrappers = body.find_element_by_css_selector('div#current-barchart-wrapper')\n",
    "#     score_list = wrappers.text.split('\\n')\n",
    "#     labels = score_list[4:8]\n",
    "#     scores = score_list[-4:]\n",
    "#     #put this into the dataframe\n",
    "#     scores_tuple_list = list(zip(labels,scores))\n",
    "#     weekly_totals = select_one('div#overtime-linechart-accessible')\n",
    "#     time.sleep(5)\n",
    "#     table = weekly_totals.find_element_by_css_selector('table')\n",
    "#     body = table.find_element_by_css_selector('tbody')\n",
    "#     data = body.find_elements_by_css_selector('td')\n",
    "#     data_table_list = []\n",
    "#     for d in data:\n",
    "#         data_table_list.append(d.get_attribute('innerHTML'))\n",
    "#     #put this into the dataframe\n",
    "#     social_index = social_index_df.append({'ninety_day_views': views,\n",
    "#                     'social_score': scores_tuple_list,\n",
    "#                     'weekly_totals': data_table_list}, \n",
    "#                     ignore_index=True)\n",
    "#     return(social_index)"
   ]
  },
  {
   "cell_type": "code",
   "execution_count": 201,
   "metadata": {
    "collapsed": true
   },
   "outputs": [],
   "source": [
    "def run_scrape(login, password):\n",
    "    chromedriver = '/usr/local/bin/chromedriver'\n",
    "    driver = webdriver.Chrome(chromedriver)\n",
    "    sign_in(login, password, driver)\n",
    "    #messages = get_messages(driver)\n",
    "    messages = get_messages(driver)\n",
    "    filename = f'{login}'+'.messages.csv'\n",
    "    messages.to_csv(filename,index=False)\n",
    "\n",
    "    #viewer information\n",
    "    viewer_df = get_viewer_info(driver)\n",
    "    viewerfilename = f'{login}'+'viewerinfo.csv'\n",
    "    viewer_df.to_csv(viewerfilename,index=False)\n",
    "    \n",
    "    "
   ]
  },
  {
   "cell_type": "code",
   "execution_count": 12,
   "metadata": {
    "collapsed": true
   },
   "outputs": [],
   "source": [
    "chromedriver = '/usr/local/bin/chromedriver'\n",
    "driver = webdriver.Chrome(chromedriver)\n",
    "driver = sign_in(login, password,driver)"
   ]
  },
  {
   "cell_type": "code",
   "execution_count": 202,
   "metadata": {},
   "outputs": [
    {
     "name": "stdout",
     "output_type": "stream",
     "text": [
      "20\n",
      "['JUL 25, 2018', 'Daniel Jang is now a connection.']\n"
     ]
    }
   ],
   "source": [
    "run_scrape(login, password)"
   ]
  },
  {
   "cell_type": "code",
   "execution_count": 203,
   "metadata": {},
   "outputs": [
    {
     "name": "stdout",
     "output_type": "stream",
     "text": [
      "geckodriver.log                   messages_csv_example.xlsx\r\n",
      "keri@multerer.com.messages.csv    views_graph_example.xlsx\r\n",
      "keri@multerer.comsocial_score.csv workbook.ipynb\r\n",
      "keri@multerer.comviewerinfo.csv\r\n"
     ]
    }
   ],
   "source": [
    "!ls"
   ]
  },
  {
   "cell_type": "code",
   "execution_count": 204,
   "metadata": {
    "collapsed": true
   },
   "outputs": [],
   "source": [
    "df = pd.read_csv('keri@multerer.com.messages.csv')"
   ]
  },
  {
   "cell_type": "code",
   "execution_count": 205,
   "metadata": {
    "scrolled": true
   },
   "outputs": [
    {
     "data": {
      "text/html": [
       "<div>\n",
       "<style scoped>\n",
       "    .dataframe tbody tr th:only-of-type {\n",
       "        vertical-align: middle;\n",
       "    }\n",
       "\n",
       "    .dataframe tbody tr th {\n",
       "        vertical-align: top;\n",
       "    }\n",
       "\n",
       "    .dataframe thead th {\n",
       "        text-align: right;\n",
       "    }\n",
       "</style>\n",
       "<table border=\"1\" class=\"dataframe\">\n",
       "  <thead>\n",
       "    <tr style=\"text-align: right;\">\n",
       "      <th></th>\n",
       "      <th>id</th>\n",
       "      <th>message</th>\n",
       "      <th>date</th>\n",
       "      <th>profile_url</th>\n",
       "      <th>message_url</th>\n",
       "    </tr>\n",
       "  </thead>\n",
       "  <tbody>\n",
       "    <tr>\n",
       "      <th>0</th>\n",
       "      <td>Faisal Zahid</td>\n",
       "      <td>['Faisal Zahid', 'Faisal Zahid', '· 1st', 'Tec...</td>\n",
       "      <td>Faisal Zahid sent the following message at 2:3...</td>\n",
       "      <td>https://www.linkedin.com/in/faisal-zahid-280118b/</td>\n",
       "      <td>https://www.linkedin.com/messaging/thread/6495...</td>\n",
       "    </tr>\n",
       "    <tr>\n",
       "      <th>1</th>\n",
       "      <td>NaN</td>\n",
       "      <td>advertisement</td>\n",
       "      <td>NaN</td>\n",
       "      <td>none</td>\n",
       "      <td>https://www.linkedin.com/messaging/thread/6514...</td>\n",
       "    </tr>\n",
       "    <tr>\n",
       "      <th>2</th>\n",
       "      <td>Yiran Sherry</td>\n",
       "      <td>['Yiran Sherry', 'Yiran Sherry', 'Enterprise T...</td>\n",
       "      <td>View Yiran’s profile</td>\n",
       "      <td>https://www.linkedin.com/in/yiransherry/</td>\n",
       "      <td>https://www.linkedin.com/messaging/thread/6505...</td>\n",
       "    </tr>\n",
       "    <tr>\n",
       "      <th>3</th>\n",
       "      <td>NaN</td>\n",
       "      <td>advertisement</td>\n",
       "      <td>NaN</td>\n",
       "      <td>none</td>\n",
       "      <td>https://www.linkedin.com/messaging/thread/6495...</td>\n",
       "    </tr>\n",
       "    <tr>\n",
       "      <th>4</th>\n",
       "      <td>NaN</td>\n",
       "      <td>advertisement</td>\n",
       "      <td>NaN</td>\n",
       "      <td>none</td>\n",
       "      <td>https://www.linkedin.com/messaging/thread/6478...</td>\n",
       "    </tr>\n",
       "    <tr>\n",
       "      <th>5</th>\n",
       "      <td>Recruiter</td>\n",
       "      <td>['Recruiter', 'Oct 17, 2018', 'Sophia Georgant...</td>\n",
       "      <td>Oct 17, 2018</td>\n",
       "      <td>https://www.linkedin.com/in/sophia-georgantoni...</td>\n",
       "      <td>https://www.linkedin.com/messaging/thread/6458...</td>\n",
       "    </tr>\n",
       "    <tr>\n",
       "      <th>6</th>\n",
       "      <td>Elena Poughia</td>\n",
       "      <td>['Elena Poughia', 'Elena Poughia', 'MD at Data...</td>\n",
       "      <td>View Elena’s profile</td>\n",
       "      <td>https://www.linkedin.com/in/elenapoughia/</td>\n",
       "      <td>https://www.linkedin.com/messaging/thread/6451...</td>\n",
       "    </tr>\n",
       "    <tr>\n",
       "      <th>7</th>\n",
       "      <td>NaN</td>\n",
       "      <td>advertisement</td>\n",
       "      <td>NaN</td>\n",
       "      <td>none</td>\n",
       "      <td>https://www.linkedin.com/messaging/thread/6444...</td>\n",
       "    </tr>\n",
       "    <tr>\n",
       "      <th>8</th>\n",
       "      <td>Charlie Redding</td>\n",
       "      <td>['AUG 11, 2018', 'Charlie Redding sent the fol...</td>\n",
       "      <td>AUG 11, 2018</td>\n",
       "      <td>unable to get</td>\n",
       "      <td>https://www.linkedin.com/messaging/thread/6409...</td>\n",
       "    </tr>\n",
       "    <tr>\n",
       "      <th>9</th>\n",
       "      <td>Daniel Jang</td>\n",
       "      <td>['JUL 25, 2018', 'Daniel Jang is now a connect...</td>\n",
       "      <td>JUL 25, 2018</td>\n",
       "      <td>https://www.linkedin.com/in/daniel-jang/</td>\n",
       "      <td>https://www.linkedin.com/messaging/thread/6427...</td>\n",
       "    </tr>\n",
       "    <tr>\n",
       "      <th>10</th>\n",
       "      <td>NaN</td>\n",
       "      <td>advertisement</td>\n",
       "      <td>NaN</td>\n",
       "      <td>none</td>\n",
       "      <td>https://www.linkedin.com/messaging/thread/6423...</td>\n",
       "    </tr>\n",
       "    <tr>\n",
       "      <th>11</th>\n",
       "      <td>Jen Rudnicki</td>\n",
       "      <td>['Jen Rudnicki', 'Jen Rudnicki', '· 1st', 'RPA...</td>\n",
       "      <td>Jen Rudnicki sent the following message at 2:0...</td>\n",
       "      <td>https://www.linkedin.com/in/jenrudnicki/</td>\n",
       "      <td>https://www.linkedin.com/messaging/thread/6422...</td>\n",
       "    </tr>\n",
       "    <tr>\n",
       "      <th>12</th>\n",
       "      <td>Brooke Shankles</td>\n",
       "      <td>['Brooke Shankles', 'Status is reachable', 'Br...</td>\n",
       "      <td>Keri Multerer sent the following message at 9:...</td>\n",
       "      <td>https://www.linkedin.com/in/brooke-shankles-43...</td>\n",
       "      <td>https://www.linkedin.com/messaging/thread/6375...</td>\n",
       "    </tr>\n",
       "    <tr>\n",
       "      <th>13</th>\n",
       "      <td>Gabriel Nishimura</td>\n",
       "      <td>['JUN 5, 2018', 'Gabriel Nishimura sent the fo...</td>\n",
       "      <td>JUN 5, 2018</td>\n",
       "      <td>https://www.linkedin.com/in/gabriel-nishimura/</td>\n",
       "      <td>https://www.linkedin.com/messaging/thread/6409...</td>\n",
       "    </tr>\n",
       "    <tr>\n",
       "      <th>14</th>\n",
       "      <td>NaN</td>\n",
       "      <td>advertisement</td>\n",
       "      <td>NaN</td>\n",
       "      <td>none</td>\n",
       "      <td>https://www.linkedin.com/messaging/thread/6406...</td>\n",
       "    </tr>\n",
       "    <tr>\n",
       "      <th>15</th>\n",
       "      <td>Andrew Nicholls</td>\n",
       "      <td>['MAY 18, 2018', 'Andrew Nicholls sent the fol...</td>\n",
       "      <td>MAY 18, 2018</td>\n",
       "      <td>https://www.linkedin.com/in/andrewsnicholls/</td>\n",
       "      <td>https://www.linkedin.com/messaging/thread/6402...</td>\n",
       "    </tr>\n",
       "    <tr>\n",
       "      <th>16</th>\n",
       "      <td>Recruiter</td>\n",
       "      <td>['Recruiter', 'May 24, 2018', 'LinkedIn Member...</td>\n",
       "      <td>May 24, 2018</td>\n",
       "      <td>https://www.linkedin.com/in/UNKNOWN/</td>\n",
       "      <td>https://www.linkedin.com/messaging/thread/6405...</td>\n",
       "    </tr>\n",
       "    <tr>\n",
       "      <th>17</th>\n",
       "      <td>Bridget Wood</td>\n",
       "      <td>['Bridget Wood', 'Bridget Wood', 'VP, Insight'...</td>\n",
       "      <td>View Keri’s profile</td>\n",
       "      <td>https://www.linkedin.com/in/bridgetkwood/</td>\n",
       "      <td>https://www.linkedin.com/messaging/thread/6403...</td>\n",
       "    </tr>\n",
       "    <tr>\n",
       "      <th>18</th>\n",
       "      <td>NaN</td>\n",
       "      <td>advertisement</td>\n",
       "      <td>NaN</td>\n",
       "      <td>none</td>\n",
       "      <td>https://www.linkedin.com/messaging/thread/6389...</td>\n",
       "    </tr>\n",
       "    <tr>\n",
       "      <th>19</th>\n",
       "      <td>Chelsea Lientz</td>\n",
       "      <td>['MAR 27, 2017', 'Chelsea Lientz sent the foll...</td>\n",
       "      <td>MAR 27, 2017</td>\n",
       "      <td>https://www.linkedin.com/in/chelsealientz/</td>\n",
       "      <td>https://www.linkedin.com/messaging/thread/6244...</td>\n",
       "    </tr>\n",
       "  </tbody>\n",
       "</table>\n",
       "</div>"
      ],
      "text/plain": [
       "                   id                                            message  \\\n",
       "0        Faisal Zahid  ['Faisal Zahid', 'Faisal Zahid', '· 1st', 'Tec...   \n",
       "1                 NaN                                      advertisement   \n",
       "2        Yiran Sherry  ['Yiran Sherry', 'Yiran Sherry', 'Enterprise T...   \n",
       "3                 NaN                                      advertisement   \n",
       "4                 NaN                                      advertisement   \n",
       "5           Recruiter  ['Recruiter', 'Oct 17, 2018', 'Sophia Georgant...   \n",
       "6       Elena Poughia  ['Elena Poughia', 'Elena Poughia', 'MD at Data...   \n",
       "7                 NaN                                      advertisement   \n",
       "8     Charlie Redding  ['AUG 11, 2018', 'Charlie Redding sent the fol...   \n",
       "9         Daniel Jang  ['JUL 25, 2018', 'Daniel Jang is now a connect...   \n",
       "10                NaN                                      advertisement   \n",
       "11       Jen Rudnicki  ['Jen Rudnicki', 'Jen Rudnicki', '· 1st', 'RPA...   \n",
       "12    Brooke Shankles  ['Brooke Shankles', 'Status is reachable', 'Br...   \n",
       "13  Gabriel Nishimura  ['JUN 5, 2018', 'Gabriel Nishimura sent the fo...   \n",
       "14                NaN                                      advertisement   \n",
       "15    Andrew Nicholls  ['MAY 18, 2018', 'Andrew Nicholls sent the fol...   \n",
       "16          Recruiter  ['Recruiter', 'May 24, 2018', 'LinkedIn Member...   \n",
       "17       Bridget Wood  ['Bridget Wood', 'Bridget Wood', 'VP, Insight'...   \n",
       "18                NaN                                      advertisement   \n",
       "19     Chelsea Lientz  ['MAR 27, 2017', 'Chelsea Lientz sent the foll...   \n",
       "\n",
       "                                                 date  \\\n",
       "0   Faisal Zahid sent the following message at 2:3...   \n",
       "1                                                 NaN   \n",
       "2                                View Yiran’s profile   \n",
       "3                                                 NaN   \n",
       "4                                                 NaN   \n",
       "5                                        Oct 17, 2018   \n",
       "6                                View Elena’s profile   \n",
       "7                                                 NaN   \n",
       "8                                        AUG 11, 2018   \n",
       "9                                        JUL 25, 2018   \n",
       "10                                                NaN   \n",
       "11  Jen Rudnicki sent the following message at 2:0...   \n",
       "12  Keri Multerer sent the following message at 9:...   \n",
       "13                                        JUN 5, 2018   \n",
       "14                                                NaN   \n",
       "15                                       MAY 18, 2018   \n",
       "16                                       May 24, 2018   \n",
       "17                                View Keri’s profile   \n",
       "18                                                NaN   \n",
       "19                                       MAR 27, 2017   \n",
       "\n",
       "                                          profile_url  \\\n",
       "0   https://www.linkedin.com/in/faisal-zahid-280118b/   \n",
       "1                                                none   \n",
       "2            https://www.linkedin.com/in/yiransherry/   \n",
       "3                                                none   \n",
       "4                                                none   \n",
       "5   https://www.linkedin.com/in/sophia-georgantoni...   \n",
       "6           https://www.linkedin.com/in/elenapoughia/   \n",
       "7                                                none   \n",
       "8                                       unable to get   \n",
       "9            https://www.linkedin.com/in/daniel-jang/   \n",
       "10                                               none   \n",
       "11           https://www.linkedin.com/in/jenrudnicki/   \n",
       "12  https://www.linkedin.com/in/brooke-shankles-43...   \n",
       "13     https://www.linkedin.com/in/gabriel-nishimura/   \n",
       "14                                               none   \n",
       "15       https://www.linkedin.com/in/andrewsnicholls/   \n",
       "16               https://www.linkedin.com/in/UNKNOWN/   \n",
       "17          https://www.linkedin.com/in/bridgetkwood/   \n",
       "18                                               none   \n",
       "19         https://www.linkedin.com/in/chelsealientz/   \n",
       "\n",
       "                                          message_url  \n",
       "0   https://www.linkedin.com/messaging/thread/6495...  \n",
       "1   https://www.linkedin.com/messaging/thread/6514...  \n",
       "2   https://www.linkedin.com/messaging/thread/6505...  \n",
       "3   https://www.linkedin.com/messaging/thread/6495...  \n",
       "4   https://www.linkedin.com/messaging/thread/6478...  \n",
       "5   https://www.linkedin.com/messaging/thread/6458...  \n",
       "6   https://www.linkedin.com/messaging/thread/6451...  \n",
       "7   https://www.linkedin.com/messaging/thread/6444...  \n",
       "8   https://www.linkedin.com/messaging/thread/6409...  \n",
       "9   https://www.linkedin.com/messaging/thread/6427...  \n",
       "10  https://www.linkedin.com/messaging/thread/6423...  \n",
       "11  https://www.linkedin.com/messaging/thread/6422...  \n",
       "12  https://www.linkedin.com/messaging/thread/6375...  \n",
       "13  https://www.linkedin.com/messaging/thread/6409...  \n",
       "14  https://www.linkedin.com/messaging/thread/6406...  \n",
       "15  https://www.linkedin.com/messaging/thread/6402...  \n",
       "16  https://www.linkedin.com/messaging/thread/6405...  \n",
       "17  https://www.linkedin.com/messaging/thread/6403...  \n",
       "18  https://www.linkedin.com/messaging/thread/6389...  \n",
       "19  https://www.linkedin.com/messaging/thread/6244...  "
      ]
     },
     "execution_count": 205,
     "metadata": {},
     "output_type": "execute_result"
    }
   ],
   "source": [
    "df"
   ]
  },
  {
   "cell_type": "code",
   "execution_count": 206,
   "metadata": {
    "collapsed": true
   },
   "outputs": [],
   "source": [
    "viewers = pd.read_csv('keri@multerer.comviewerinfo.csv')"
   ]
  },
  {
   "cell_type": "code",
   "execution_count": 207,
   "metadata": {},
   "outputs": [
    {
     "data": {
      "text/html": [
       "<div>\n",
       "<style scoped>\n",
       "    .dataframe tbody tr th:only-of-type {\n",
       "        vertical-align: middle;\n",
       "    }\n",
       "\n",
       "    .dataframe tbody tr th {\n",
       "        vertical-align: top;\n",
       "    }\n",
       "\n",
       "    .dataframe thead th {\n",
       "        text-align: right;\n",
       "    }\n",
       "</style>\n",
       "<table border=\"1\" class=\"dataframe\">\n",
       "  <thead>\n",
       "    <tr style=\"text-align: right;\">\n",
       "      <th></th>\n",
       "      <th>name</th>\n",
       "      <th>profile_url</th>\n",
       "    </tr>\n",
       "  </thead>\n",
       "  <tbody>\n",
       "    <tr>\n",
       "      <th>0</th>\n",
       "      <td>Ha Tran</td>\n",
       "      <td>https://www.linkedin.com/in/ha-t-tran/</td>\n",
       "    </tr>\n",
       "    <tr>\n",
       "      <th>1</th>\n",
       "      <td>Abhi Banerjee</td>\n",
       "      <td>https://www.linkedin.com/in/abhi-banerjee/</td>\n",
       "    </tr>\n",
       "    <tr>\n",
       "      <th>2</th>\n",
       "      <td>Helene Thomas</td>\n",
       "      <td>https://www.linkedin.com/in/helene-thomas-7600...</td>\n",
       "    </tr>\n",
       "    <tr>\n",
       "      <th>3</th>\n",
       "      <td>John Tlapa</td>\n",
       "      <td>https://www.linkedin.com/in/johntlapa/</td>\n",
       "    </tr>\n",
       "    <tr>\n",
       "      <th>4</th>\n",
       "      <td>Keri Mallari</td>\n",
       "      <td>https://www.linkedin.com/in/kerixyz/</td>\n",
       "    </tr>\n",
       "    <tr>\n",
       "      <th>5</th>\n",
       "      <td>Niels Hanson</td>\n",
       "      <td>https://www.linkedin.com/in/niels-hanson-46ab1...</td>\n",
       "    </tr>\n",
       "  </tbody>\n",
       "</table>\n",
       "</div>"
      ],
      "text/plain": [
       "            name                                        profile_url\n",
       "0        Ha Tran             https://www.linkedin.com/in/ha-t-tran/\n",
       "1  Abhi Banerjee         https://www.linkedin.com/in/abhi-banerjee/\n",
       "2  Helene Thomas  https://www.linkedin.com/in/helene-thomas-7600...\n",
       "3     John Tlapa             https://www.linkedin.com/in/johntlapa/\n",
       "4   Keri Mallari               https://www.linkedin.com/in/kerixyz/\n",
       "5   Niels Hanson  https://www.linkedin.com/in/niels-hanson-46ab1..."
      ]
     },
     "execution_count": 207,
     "metadata": {},
     "output_type": "execute_result"
    }
   ],
   "source": [
    "viewers"
   ]
  },
  {
   "cell_type": "code",
   "execution_count": null,
   "metadata": {
    "collapsed": true
   },
   "outputs": [],
   "source": [
    "!rm 'keri@multerer.com.messages.csv'\n",
    "!rm 'keri@multerer.comsocial_score.csv'"
   ]
  },
  {
   "cell_type": "code",
   "execution_count": null,
   "metadata": {
    "collapsed": true
   },
   "outputs": [],
   "source": [
    "!ls"
   ]
  },
  {
   "cell_type": "code",
   "execution_count": null,
   "metadata": {
    "collapsed": true
   },
   "outputs": [],
   "source": []
  }
 ],
 "metadata": {
  "kernelspec": {
   "display_name": "Python 3",
   "language": "python",
   "name": "python3"
  },
  "language_info": {
   "codemirror_mode": {
    "name": "ipython",
    "version": 3
   },
   "file_extension": ".py",
   "mimetype": "text/x-python",
   "name": "python",
   "nbconvert_exporter": "python",
   "pygments_lexer": "ipython3",
   "version": "3.6.7"
  }
 },
 "nbformat": 4,
 "nbformat_minor": 2
}
